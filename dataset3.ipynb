{
 "cells": [
  {
   "cell_type": "code",
   "execution_count": 1,
   "id": "2807b7ee",
   "metadata": {},
   "outputs": [],
   "source": [
    "import pandas as pd\n",
    "import numpy as np\n",
    "import seaborn as sns\n",
    "import matplotlib.pyplot as plt\n",
    "%matplotlib inline\n"
   ]
  },
  {
   "cell_type": "code",
   "execution_count": 2,
   "id": "49dadcda",
   "metadata": {},
   "outputs": [],
   "source": [
    "cdata = pd.read_csv(\"corona_tested_individuals_ver_006.english.csv\",low_memory=False)\n"
   ]
  },
  {
   "cell_type": "code",
   "execution_count": 3,
   "id": "47b8312a",
   "metadata": {},
   "outputs": [
    {
     "data": {
      "text/html": [
       "<div>\n",
       "<style scoped>\n",
       "    .dataframe tbody tr th:only-of-type {\n",
       "        vertical-align: middle;\n",
       "    }\n",
       "\n",
       "    .dataframe tbody tr th {\n",
       "        vertical-align: top;\n",
       "    }\n",
       "\n",
       "    .dataframe thead th {\n",
       "        text-align: right;\n",
       "    }\n",
       "</style>\n",
       "<table border=\"1\" class=\"dataframe\">\n",
       "  <thead>\n",
       "    <tr style=\"text-align: right;\">\n",
       "      <th></th>\n",
       "      <th>test_date</th>\n",
       "      <th>cough</th>\n",
       "      <th>fever</th>\n",
       "      <th>sore_throat</th>\n",
       "      <th>shortness_of_breath</th>\n",
       "      <th>head_ache</th>\n",
       "      <th>corona_result</th>\n",
       "      <th>age_60_and_above</th>\n",
       "      <th>gender</th>\n",
       "      <th>test_indication</th>\n",
       "    </tr>\n",
       "  </thead>\n",
       "  <tbody>\n",
       "    <tr>\n",
       "      <th>0</th>\n",
       "      <td>2020-04-30</td>\n",
       "      <td>0</td>\n",
       "      <td>0</td>\n",
       "      <td>0</td>\n",
       "      <td>0</td>\n",
       "      <td>0</td>\n",
       "      <td>negative</td>\n",
       "      <td>None</td>\n",
       "      <td>female</td>\n",
       "      <td>Other</td>\n",
       "    </tr>\n",
       "    <tr>\n",
       "      <th>1</th>\n",
       "      <td>2020-04-30</td>\n",
       "      <td>1</td>\n",
       "      <td>0</td>\n",
       "      <td>0</td>\n",
       "      <td>0</td>\n",
       "      <td>0</td>\n",
       "      <td>negative</td>\n",
       "      <td>None</td>\n",
       "      <td>female</td>\n",
       "      <td>Other</td>\n",
       "    </tr>\n",
       "    <tr>\n",
       "      <th>2</th>\n",
       "      <td>2020-04-30</td>\n",
       "      <td>0</td>\n",
       "      <td>1</td>\n",
       "      <td>0</td>\n",
       "      <td>0</td>\n",
       "      <td>0</td>\n",
       "      <td>negative</td>\n",
       "      <td>None</td>\n",
       "      <td>male</td>\n",
       "      <td>Other</td>\n",
       "    </tr>\n",
       "    <tr>\n",
       "      <th>3</th>\n",
       "      <td>2020-04-30</td>\n",
       "      <td>1</td>\n",
       "      <td>0</td>\n",
       "      <td>0</td>\n",
       "      <td>0</td>\n",
       "      <td>0</td>\n",
       "      <td>negative</td>\n",
       "      <td>None</td>\n",
       "      <td>female</td>\n",
       "      <td>Other</td>\n",
       "    </tr>\n",
       "    <tr>\n",
       "      <th>4</th>\n",
       "      <td>2020-04-30</td>\n",
       "      <td>1</td>\n",
       "      <td>0</td>\n",
       "      <td>0</td>\n",
       "      <td>0</td>\n",
       "      <td>0</td>\n",
       "      <td>negative</td>\n",
       "      <td>None</td>\n",
       "      <td>male</td>\n",
       "      <td>Other</td>\n",
       "    </tr>\n",
       "  </tbody>\n",
       "</table>\n",
       "</div>"
      ],
      "text/plain": [
       "    test_date cough fever sore_throat shortness_of_breath head_ache  \\\n",
       "0  2020-04-30     0     0           0                   0         0   \n",
       "1  2020-04-30     1     0           0                   0         0   \n",
       "2  2020-04-30     0     1           0                   0         0   \n",
       "3  2020-04-30     1     0           0                   0         0   \n",
       "4  2020-04-30     1     0           0                   0         0   \n",
       "\n",
       "  corona_result age_60_and_above  gender test_indication  \n",
       "0      negative             None  female           Other  \n",
       "1      negative             None  female           Other  \n",
       "2      negative             None    male           Other  \n",
       "3      negative             None  female           Other  \n",
       "4      negative             None    male           Other  "
      ]
     },
     "execution_count": 3,
     "metadata": {},
     "output_type": "execute_result"
    }
   ],
   "source": [
    "cdata.head()"
   ]
  },
  {
   "cell_type": "code",
   "execution_count": 4,
   "id": "7f5e6c33",
   "metadata": {
    "scrolled": true
   },
   "outputs": [
    {
     "name": "stdout",
     "output_type": "stream",
     "text": [
      "<class 'pandas.core.frame.DataFrame'>\n",
      "RangeIndex: 278848 entries, 0 to 278847\n",
      "Data columns (total 10 columns):\n",
      " #   Column               Non-Null Count   Dtype \n",
      "---  ------               --------------   ----- \n",
      " 0   test_date            278848 non-null  object\n",
      " 1   cough                278848 non-null  object\n",
      " 2   fever                278848 non-null  object\n",
      " 3   sore_throat          278848 non-null  object\n",
      " 4   shortness_of_breath  278848 non-null  object\n",
      " 5   head_ache            278848 non-null  object\n",
      " 6   corona_result        278848 non-null  object\n",
      " 7   age_60_and_above     278848 non-null  object\n",
      " 8   gender               278848 non-null  object\n",
      " 9   test_indication      278848 non-null  object\n",
      "dtypes: object(10)\n",
      "memory usage: 21.3+ MB\n"
     ]
    }
   ],
   "source": [
    "cdata.info()\n",
    "#cdata = cdata.drop([\"test_date\"],axis=1)\n"
   ]
  },
  {
   "cell_type": "code",
   "execution_count": 5,
   "id": "7592d8fd",
   "metadata": {},
   "outputs": [
    {
     "data": {
      "text/plain": [
       "(278848, 10)"
      ]
     },
     "execution_count": 5,
     "metadata": {},
     "output_type": "execute_result"
    }
   ],
   "source": [
    "cdata.shape"
   ]
  },
  {
   "cell_type": "code",
   "execution_count": 6,
   "id": "b57093b6",
   "metadata": {},
   "outputs": [
    {
     "data": {
      "text/plain": [
       "test_date              [2020-04-30, 2020-04-29, 2020-04-28, 2020-04-2...\n",
       "cough                                                       [0, 1, None]\n",
       "fever                                                       [0, 1, None]\n",
       "sore_throat                                                 [0, 1, None]\n",
       "shortness_of_breath                                         [0, 1, None]\n",
       "head_ache                                                   [0, 1, None]\n",
       "corona_result                                [negative, positive, other]\n",
       "age_60_and_above                                         [None, Yes, No]\n",
       "gender                                              [female, male, None]\n",
       "test_indication                  [Other, Abroad, Contact with confirmed]\n",
       "dtype: object"
      ]
     },
     "execution_count": 6,
     "metadata": {},
     "output_type": "execute_result"
    }
   ],
   "source": [
    "pd.Series({col:cdata[col].unique() for col in cdata})\n"
   ]
  },
  {
   "cell_type": "code",
   "execution_count": 7,
   "id": "378ef487",
   "metadata": {},
   "outputs": [],
   "source": [
    "cdata['corona_result'].value_counts()\n",
    "cdata = cdata.drop(cdata.index[cdata['corona_result'] == \"other\"])\n"
   ]
  },
  {
   "cell_type": "code",
   "execution_count": 8,
   "id": "f7616637",
   "metadata": {},
   "outputs": [
    {
     "data": {
      "text/plain": [
       "test_date              [2020-04-30, 2020-04-29, 2020-04-28, 2020-04-2...\n",
       "cough                                                       [0, 1, None]\n",
       "fever                                                       [0, 1, None]\n",
       "sore_throat                                                 [0, 1, None]\n",
       "shortness_of_breath                                         [0, 1, None]\n",
       "head_ache                                                   [0, 1, None]\n",
       "corona_result                                       [negative, positive]\n",
       "age_60_and_above                                         [None, Yes, No]\n",
       "gender                                              [female, male, None]\n",
       "test_indication                  [Other, Abroad, Contact with confirmed]\n",
       "dtype: object"
      ]
     },
     "execution_count": 8,
     "metadata": {},
     "output_type": "execute_result"
    }
   ],
   "source": [
    "pd.Series({col:cdata[col].unique() for col in cdata})\n"
   ]
  },
  {
   "cell_type": "code",
   "execution_count": 9,
   "id": "c35ff31c",
   "metadata": {},
   "outputs": [
    {
     "name": "stdout",
     "output_type": "stream",
     "text": [
      "['cough', 'head_ache', 'sore_throat', 'shortness_of_breath', 'fever']\n",
      "['gender', 'age_60_and_above']\n",
      "['test_date', 'corona_result', 'test_indication']\n"
     ]
    }
   ],
   "source": [
    "symptoms_g = [\"Fever\",\"Cough\",\"Tiredness\" ,\"loss  taste smell\",\"Shortness  breath\" ,\"difficulty breathing\",\"Muscle aches\",\"pneumonia\",\n",
    "\"Chills\",\"Sore throat\",\"Runny nose\",\"head ache\",\"Chest pain\",\"conjunctivitis\",\"Nausea\",\"Vomiting\",\"Diarrhea\",\"Rash\",\"nasal congestion\",\"bodypain\"]\n",
    "basic_info =[\"gender\",\"country\",\"age\"]\n",
    "cdata.columns = [i.lower() for i in cdata.columns ]\n",
    "def filter(a):\n",
    "    a = [i.lower() for i in a]\n",
    "    a = [i.replace(\" \",\",\") for i in a]\n",
    "    a= [i.split(',') for i in a]\n",
    "    b=[i for i in cdata.columns]\n",
    "    b = [i.lower() for i in b]\n",
    "    m=[]\n",
    "    for y in b:\n",
    "        for i in a:\n",
    "            for c in i:\n",
    "                if (c in y) and c!=\"\":\n",
    "                    m.append(c)\n",
    "    final = list(set(y for y in b for i in m if i in y))\n",
    "    return final\n",
    "\n",
    "symptoms= filter(symptoms_g)\n",
    "basic =filter(basic_info)\n",
    "print(symptoms)\n",
    "print(basic)\n",
    "u = basic + symptoms\n",
    "other_factors = [y for y in cdata.columns  if y not in u  ]\n",
    "print(other_factors)"
   ]
  },
  {
   "cell_type": "code",
   "execution_count": null,
   "id": "84617c4e",
   "metadata": {},
   "outputs": [],
   "source": []
  },
  {
   "cell_type": "code",
   "execution_count": 10,
   "id": "56dfaa91",
   "metadata": {},
   "outputs": [
    {
     "data": {
      "text/html": [
       "<div>\n",
       "<style scoped>\n",
       "    .dataframe tbody tr th:only-of-type {\n",
       "        vertical-align: middle;\n",
       "    }\n",
       "\n",
       "    .dataframe tbody tr th {\n",
       "        vertical-align: top;\n",
       "    }\n",
       "\n",
       "    .dataframe thead th {\n",
       "        text-align: right;\n",
       "    }\n",
       "</style>\n",
       "<table border=\"1\" class=\"dataframe\">\n",
       "  <thead>\n",
       "    <tr style=\"text-align: right;\">\n",
       "      <th></th>\n",
       "      <th>test_date</th>\n",
       "      <th>cough</th>\n",
       "      <th>fever</th>\n",
       "      <th>sore_throat</th>\n",
       "      <th>shortness_of_breath</th>\n",
       "      <th>head_ache</th>\n",
       "      <th>corona_result</th>\n",
       "      <th>age_60_and_above</th>\n",
       "      <th>gender</th>\n",
       "      <th>test_indication</th>\n",
       "    </tr>\n",
       "  </thead>\n",
       "  <tbody>\n",
       "    <tr>\n",
       "      <th>0</th>\n",
       "      <td>50</td>\n",
       "      <td>0</td>\n",
       "      <td>0</td>\n",
       "      <td>0</td>\n",
       "      <td>0</td>\n",
       "      <td>0</td>\n",
       "      <td>0</td>\n",
       "      <td>1</td>\n",
       "      <td>1</td>\n",
       "      <td>2</td>\n",
       "    </tr>\n",
       "    <tr>\n",
       "      <th>1</th>\n",
       "      <td>50</td>\n",
       "      <td>1</td>\n",
       "      <td>0</td>\n",
       "      <td>0</td>\n",
       "      <td>0</td>\n",
       "      <td>0</td>\n",
       "      <td>0</td>\n",
       "      <td>1</td>\n",
       "      <td>1</td>\n",
       "      <td>2</td>\n",
       "    </tr>\n",
       "    <tr>\n",
       "      <th>2</th>\n",
       "      <td>50</td>\n",
       "      <td>0</td>\n",
       "      <td>1</td>\n",
       "      <td>0</td>\n",
       "      <td>0</td>\n",
       "      <td>0</td>\n",
       "      <td>0</td>\n",
       "      <td>1</td>\n",
       "      <td>2</td>\n",
       "      <td>2</td>\n",
       "    </tr>\n",
       "    <tr>\n",
       "      <th>3</th>\n",
       "      <td>50</td>\n",
       "      <td>1</td>\n",
       "      <td>0</td>\n",
       "      <td>0</td>\n",
       "      <td>0</td>\n",
       "      <td>0</td>\n",
       "      <td>0</td>\n",
       "      <td>1</td>\n",
       "      <td>1</td>\n",
       "      <td>2</td>\n",
       "    </tr>\n",
       "    <tr>\n",
       "      <th>4</th>\n",
       "      <td>50</td>\n",
       "      <td>1</td>\n",
       "      <td>0</td>\n",
       "      <td>0</td>\n",
       "      <td>0</td>\n",
       "      <td>0</td>\n",
       "      <td>0</td>\n",
       "      <td>1</td>\n",
       "      <td>2</td>\n",
       "      <td>2</td>\n",
       "    </tr>\n",
       "    <tr>\n",
       "      <th>5</th>\n",
       "      <td>50</td>\n",
       "      <td>1</td>\n",
       "      <td>0</td>\n",
       "      <td>0</td>\n",
       "      <td>0</td>\n",
       "      <td>0</td>\n",
       "      <td>0</td>\n",
       "      <td>1</td>\n",
       "      <td>1</td>\n",
       "      <td>2</td>\n",
       "    </tr>\n",
       "    <tr>\n",
       "      <th>6</th>\n",
       "      <td>50</td>\n",
       "      <td>1</td>\n",
       "      <td>1</td>\n",
       "      <td>0</td>\n",
       "      <td>0</td>\n",
       "      <td>0</td>\n",
       "      <td>0</td>\n",
       "      <td>1</td>\n",
       "      <td>2</td>\n",
       "      <td>0</td>\n",
       "    </tr>\n",
       "    <tr>\n",
       "      <th>7</th>\n",
       "      <td>50</td>\n",
       "      <td>0</td>\n",
       "      <td>0</td>\n",
       "      <td>0</td>\n",
       "      <td>0</td>\n",
       "      <td>0</td>\n",
       "      <td>0</td>\n",
       "      <td>1</td>\n",
       "      <td>1</td>\n",
       "      <td>2</td>\n",
       "    </tr>\n",
       "    <tr>\n",
       "      <th>8</th>\n",
       "      <td>50</td>\n",
       "      <td>0</td>\n",
       "      <td>0</td>\n",
       "      <td>0</td>\n",
       "      <td>0</td>\n",
       "      <td>0</td>\n",
       "      <td>0</td>\n",
       "      <td>1</td>\n",
       "      <td>2</td>\n",
       "      <td>2</td>\n",
       "    </tr>\n",
       "    <tr>\n",
       "      <th>9</th>\n",
       "      <td>50</td>\n",
       "      <td>0</td>\n",
       "      <td>0</td>\n",
       "      <td>0</td>\n",
       "      <td>0</td>\n",
       "      <td>0</td>\n",
       "      <td>0</td>\n",
       "      <td>1</td>\n",
       "      <td>2</td>\n",
       "      <td>1</td>\n",
       "    </tr>\n",
       "  </tbody>\n",
       "</table>\n",
       "</div>"
      ],
      "text/plain": [
       "   test_date  cough  fever  sore_throat  shortness_of_breath  head_ache  \\\n",
       "0         50      0      0            0                    0          0   \n",
       "1         50      1      0            0                    0          0   \n",
       "2         50      0      1            0                    0          0   \n",
       "3         50      1      0            0                    0          0   \n",
       "4         50      1      0            0                    0          0   \n",
       "5         50      1      0            0                    0          0   \n",
       "6         50      1      1            0                    0          0   \n",
       "7         50      0      0            0                    0          0   \n",
       "8         50      0      0            0                    0          0   \n",
       "9         50      0      0            0                    0          0   \n",
       "\n",
       "   corona_result  age_60_and_above  gender  test_indication  \n",
       "0              0                 1       1                2  \n",
       "1              0                 1       1                2  \n",
       "2              0                 1       2                2  \n",
       "3              0                 1       1                2  \n",
       "4              0                 1       2                2  \n",
       "5              0                 1       1                2  \n",
       "6              0                 1       2                0  \n",
       "7              0                 1       1                2  \n",
       "8              0                 1       2                2  \n",
       "9              0                 1       2                1  "
      ]
     },
     "execution_count": 10,
     "metadata": {},
     "output_type": "execute_result"
    }
   ],
   "source": [
    "from sklearn import preprocessing\n",
    " \n",
    "label_encoder = preprocessing.LabelEncoder()\n",
    " \n",
    "# Encode labels in column 'species'.\n",
    "cdata = cdata.apply(label_encoder.fit_transform)\n",
    " \n",
    "cdata.head(10)"
   ]
  },
  {
   "cell_type": "code",
   "execution_count": 11,
   "id": "93f1259b",
   "metadata": {},
   "outputs": [
    {
     "data": {
      "text/plain": [
       "<AxesSubplot:>"
      ]
     },
     "execution_count": 11,
     "metadata": {},
     "output_type": "execute_result"
    },
    {
     "data": {
      "image/png": "[encoded data removed]",
      "text/plain": [
       "<Figure size 864x864 with 2 Axes>"
      ]
     },
     "metadata": {
      "needs_background": "light"
     },
     "output_type": "display_data"
    }
   ],
   "source": [
    "fig, ax = plt.subplots(figsize=(12,12))         # Sample figsize in inches\n",
    "sns.heatmap(cdata.corr(),annot =True,ax=ax,center = 0)"
   ]
  },
  {
   "cell_type": "code",
   "execution_count": 12,
   "id": "5d01822e",
   "metadata": {},
   "outputs": [
    {
     "data": {
      "text/plain": [
       "test_date              [50, 49, 48, 47, 46, 45, 44, 43, 42, 41, 40, 3...\n",
       "cough                                                             [0, 1]\n",
       "fever                                                             [0, 1]\n",
       "sore_throat                                                       [0, 1]\n",
       "shortness_of_breath                                               [0, 1]\n",
       "head_ache                                                         [0, 1]\n",
       "corona_result                                                     [0, 1]\n",
       "age_60_and_above                                               [1, 2, 0]\n",
       "gender                                                         [1, 2, 0]\n",
       "test_indication                                                [2, 0, 1]\n",
       "dtype: object"
      ]
     },
     "execution_count": 12,
     "metadata": {},
     "output_type": "execute_result"
    }
   ],
   "source": [
    "for i in symptoms:\n",
    "    cdata=cdata.replace({i: 2}, {i: 0}, regex=True)\n",
    "pd.Series({col:cdata[col].unique() for col in cdata})\n"
   ]
  },
  {
   "cell_type": "code",
   "execution_count": 13,
   "id": "e31ae393",
   "metadata": {},
   "outputs": [
    {
     "data": {
      "image/png": "[encoded data removed]",
      "text/plain": [
       "<Figure size 1008x1584 with 5 Axes>"
      ]
     },
     "metadata": {
      "needs_background": "light"
     },
     "output_type": "display_data"
    }
   ],
   "source": [
    "plt.figure(figsize = (14,22))\n",
    "for j in enumerate(symptoms):\n",
    "    plt.subplot(6, 3,j[0]+1)\n",
    "    sns.barplot(x=j[1],y=cdata[\"corona_result\"], data = cdata)\n",
    "    plt.xticks(rotation = 45)"
   ]
  },
  {
   "cell_type": "code",
   "execution_count": null,
   "id": "2fe2e3d1",
   "metadata": {},
   "outputs": [],
   "source": []
  },
  {
   "cell_type": "code",
   "execution_count": 14,
   "id": "01261a3b",
   "metadata": {},
   "outputs": [
    {
     "data": {
      "text/html": [
       "<div>\n",
       "<style scoped>\n",
       "    .dataframe tbody tr th:only-of-type {\n",
       "        vertical-align: middle;\n",
       "    }\n",
       "\n",
       "    .dataframe tbody tr th {\n",
       "        vertical-align: top;\n",
       "    }\n",
       "\n",
       "    .dataframe thead th {\n",
       "        text-align: right;\n",
       "    }\n",
       "</style>\n",
       "<table border=\"1\" class=\"dataframe\">\n",
       "  <thead>\n",
       "    <tr style=\"text-align: right;\">\n",
       "      <th></th>\n",
       "      <th>cough</th>\n",
       "      <th>fever</th>\n",
       "      <th>sore_throat</th>\n",
       "      <th>shortness_of_breath</th>\n",
       "      <th>head_ache</th>\n",
       "      <th>age_60_and_above</th>\n",
       "      <th>test_indication</th>\n",
       "    </tr>\n",
       "  </thead>\n",
       "  <tbody>\n",
       "    <tr>\n",
       "      <th>0</th>\n",
       "      <td>0</td>\n",
       "      <td>0</td>\n",
       "      <td>0</td>\n",
       "      <td>0</td>\n",
       "      <td>0</td>\n",
       "      <td>1</td>\n",
       "      <td>2</td>\n",
       "    </tr>\n",
       "    <tr>\n",
       "      <th>1</th>\n",
       "      <td>1</td>\n",
       "      <td>0</td>\n",
       "      <td>0</td>\n",
       "      <td>0</td>\n",
       "      <td>0</td>\n",
       "      <td>1</td>\n",
       "      <td>2</td>\n",
       "    </tr>\n",
       "    <tr>\n",
       "      <th>2</th>\n",
       "      <td>0</td>\n",
       "      <td>1</td>\n",
       "      <td>0</td>\n",
       "      <td>0</td>\n",
       "      <td>0</td>\n",
       "      <td>1</td>\n",
       "      <td>2</td>\n",
       "    </tr>\n",
       "    <tr>\n",
       "      <th>3</th>\n",
       "      <td>1</td>\n",
       "      <td>0</td>\n",
       "      <td>0</td>\n",
       "      <td>0</td>\n",
       "      <td>0</td>\n",
       "      <td>1</td>\n",
       "      <td>2</td>\n",
       "    </tr>\n",
       "    <tr>\n",
       "      <th>4</th>\n",
       "      <td>1</td>\n",
       "      <td>0</td>\n",
       "      <td>0</td>\n",
       "      <td>0</td>\n",
       "      <td>0</td>\n",
       "      <td>1</td>\n",
       "      <td>2</td>\n",
       "    </tr>\n",
       "  </tbody>\n",
       "</table>\n",
       "</div>"
      ],
      "text/plain": [
       "   cough  fever  sore_throat  shortness_of_breath  head_ache  \\\n",
       "0      0      0            0                    0          0   \n",
       "1      1      0            0                    0          0   \n",
       "2      0      1            0                    0          0   \n",
       "3      1      0            0                    0          0   \n",
       "4      1      0            0                    0          0   \n",
       "\n",
       "   age_60_and_above  test_indication  \n",
       "0                 1                2  \n",
       "1                 1                2  \n",
       "2                 1                2  \n",
       "3                 1                2  \n",
       "4                 1                2  "
      ]
     },
     "execution_count": 14,
     "metadata": {},
     "output_type": "execute_result"
    }
   ],
   "source": [
    "X = cdata.drop([\"corona_result\",\"test_date\",\"gender\"],axis=1)\n",
    "y= cdata[\"corona_result\"]\n",
    "X.head()"
   ]
  },
  {
   "cell_type": "code",
   "execution_count": 15,
   "id": "a6676f1d",
   "metadata": {},
   "outputs": [
    {
     "data": {
      "text/plain": [
       "array([[0. , 0. , 0. , ..., 0. , 0.5, 1. ],\n",
       "       [1. , 0. , 0. , ..., 0. , 0.5, 1. ],\n",
       "       [0. , 1. , 0. , ..., 0. , 0.5, 1. ],\n",
       "       ...,\n",
       "       [0. , 0. , 0. , ..., 0. , 0.5, 1. ],\n",
       "       [0. , 0. , 0. , ..., 0. , 0.5, 0.5],\n",
       "       [0. , 0. , 0. , ..., 0. , 0.5, 1. ]])"
      ]
     },
     "execution_count": 15,
     "metadata": {},
     "output_type": "execute_result"
    }
   ],
   "source": [
    "from sklearn.preprocessing import MinMaxScaler\n",
    "\n",
    "scaler = MinMaxScaler()\n",
    "X = scaler.fit_transform(X)\n",
    "X"
   ]
  },
  {
   "cell_type": "code",
   "execution_count": 16,
   "id": "d7c2010c",
   "metadata": {},
   "outputs": [],
   "source": [
    "from sklearn.model_selection import train_test_split\n",
    "X_train, X_test, y_train, y_test = train_test_split(X,y,test_size=0.2,random_state=8)"
   ]
  },
  {
   "cell_type": "code",
   "execution_count": 17,
   "id": "37a8feb8",
   "metadata": {},
   "outputs": [
    {
     "name": "stdout",
     "output_type": "stream",
     "text": [
      "The accuracy score achieved using Decision Tree is: 96.91 %\n"
     ]
    }
   ],
   "source": [
    "from sklearn.model_selection import cross_val_score\n",
    "from sklearn.metrics import accuracy_score, confusion_matrix\n",
    "from sklearn import metrics\n",
    "from sklearn.tree import DecisionTreeClassifier\n",
    "\n",
    "\n",
    "dt = DecisionTreeClassifier()\n",
    "dt.fit(X_train,y_train.values)\n",
    "Y_pred_dt = dt.predict(X_test)\n",
    "   \n",
    "        \n",
    "score_dt = round(accuracy_score(Y_pred_dt,y_test)*100,2)\n",
    "\n",
    "print(\"The accuracy score achieved using Decision Tree is: \"+str(score_dt)+\" %\")"
   ]
  },
  {
   "cell_type": "code",
   "execution_count": 18,
   "id": "7f6a60ef",
   "metadata": {},
   "outputs": [
    {
     "name": "stdout",
     "output_type": "stream",
     "text": [
      "The accuracy score achieved using logistic regression is: 84.81000957187047 %\n"
     ]
    }
   ],
   "source": [
    "from sklearn.linear_model import LogisticRegression\n",
    "from sklearn.model_selection import cross_val_score\n",
    "from sklearn import metrics\n",
    "\n",
    "LR_model= LogisticRegression()\n",
    "\n",
    "tuned_parameters = {'C': [0.001, 0.01, 0.1, 1, 10, 100, 1000] ,\n",
    "       \n",
    "                   }\n",
    "\n",
    "from sklearn.model_selection import GridSearchCV\n",
    "\n",
    "LR= GridSearchCV(LR_model, tuned_parameters,cv=10)\n",
    "LR.fit(X_train,y_train)\n",
    "\n",
    "y_prob = LR.predict_proba(X_test)[:,1] # This will give you positive class prediction probabilities  \n",
    "y_pred = np.where(y_prob > 0.5, 1, 0) # This will threshold the probabilities to give class predictions.\n",
    "from sklearn.metrics import roc_curve, auc\n",
    "false_positive_rate, true_positive_rate, thresholds = roc_curve(y_test, y_prob)\n",
    "roc_auc = auc(false_positive_rate, true_positive_rate)\n",
    "print(\"The accuracy score achieved using logistic regression is: \"+str(roc_auc*100)+\" %\")"
   ]
  },
  {
   "cell_type": "code",
   "execution_count": 19,
   "id": "3b193fae",
   "metadata": {},
   "outputs": [
    {
     "name": "stdout",
     "output_type": "stream",
     "text": [
      "The accuracy score achieved using logistic regression is: 84.81 %\n"
     ]
    }
   ],
   "source": [
    "print(\"The accuracy score achieved using logistic regression is: \"+str(round(roc_auc*100,2))+\" %\")"
   ]
  },
  {
   "cell_type": "code",
   "execution_count": null,
   "id": "4ee013c0",
   "metadata": {},
   "outputs": [],
   "source": [
    "from sklearn import metrics\n",
    "fig, ax = plt.subplots(figsize=(4,3))  \n",
    "confusion_matrix=metrics.confusion_matrix(y_test,y_pred)\n",
    "sns.heatmap(confusion_matrix, annot=True,fmt='g',ax=ax)\n",
    "ax.set_xlabel('Predicted labels');ax.set_ylabel('True labels'); \n",
    "ax.set_title('Confusion Matrix logistic regression');"
   ]
  },
  {
   "cell_type": "code",
   "execution_count": null,
   "id": "72892e59",
   "metadata": {},
   "outputs": [],
   "source": [
    "fig, ax = plt.subplots(figsize=(4,3))  \n",
    "confusion_matrix=metrics.confusion_matrix(y_test,Y_pred_dt)\n",
    "sns.heatmap(confusion_matrix, annot=True,fmt='g',ax=ax)\n",
    "ax.set_xlabel('Predicted labels');ax.set_ylabel('True labels'); \n",
    "ax.set_title('Confusion Matrix decision tree'); "
   ]
  },
  {
   "cell_type": "code",
   "execution_count": null,
   "id": "41b48841",
   "metadata": {},
   "outputs": [],
   "source": [
    "#decision tree \n",
    "zc=0\n",
    "oc=0\n",
    "for i in range(len(X_test)):\n",
    "    features = np.array([X_test[i]])\n",
    "    prediction = dt.predict(features)\n",
    "    if prediction == 0:\n",
    "        zc+=1\n",
    "    else:\n",
    "        oc+=1\n",
    "print(\"infected: \", oc)\n",
    "print(\"not infected: \", zc)"
   ]
  },
  {
   "cell_type": "code",
   "execution_count": null,
   "id": "ece2ddb4",
   "metadata": {},
   "outputs": [],
   "source": [
    "#logistic regression\n",
    "zc=0\n",
    "oc=0\n",
    "for i in range(len(X_test)):\n",
    "    features = np.array([X_test[i]])\n",
    "    prediction = LR.predict(features)\n",
    "    if prediction == 0:\n",
    "        zc+=1\n",
    "    else:\n",
    "        oc+=1\n",
    "print(\"infected: \", oc)\n",
    "print(\"not infected: \", zc)"
   ]
  },
  {
   "cell_type": "code",
   "execution_count": null,
   "id": "08c80976",
   "metadata": {},
   "outputs": [],
   "source": []
  }
 ],
 "metadata": {
  "kernelspec": {
   "display_name": "Python 3",
   "language": "python",
   "name": "python3"
  },
  "language_info": {
   "codemirror_mode": {
    "name": "ipython",
    "version": 3
   },
   "file_extension": ".py",
   "mimetype": "text/x-python",
   "name": "python",
   "nbconvert_exporter": "python",
   "pygments_lexer": "ipython3",
   "version": "3.8.8"
  }
 },
 "nbformat": 4,
 "nbformat_minor": 5
}
